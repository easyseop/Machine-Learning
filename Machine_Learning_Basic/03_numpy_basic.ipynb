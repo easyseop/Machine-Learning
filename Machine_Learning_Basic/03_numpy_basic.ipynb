{
 "cells": [
  {
   "cell_type": "code",
   "execution_count": 1,
   "id": "48cd8d42",
   "metadata": {},
   "outputs": [],
   "source": [
    "import numpy as np"
   ]
  },
  {
   "cell_type": "code",
   "execution_count": 3,
   "id": "f8cd8beb",
   "metadata": {},
   "outputs": [
    {
     "name": "stdout",
     "output_type": "stream",
     "text": [
      "[1 2 3]\n",
      "\n",
      "[[1 2]\n",
      " [3 4]]\n",
      "\n",
      "[[1 2 3]\n",
      " [4 5 6]]\n"
     ]
    }
   ],
   "source": [
    "# 새로운  array를 생성\n",
    "# 1차원 = vector, 2차원 = matrix\n",
    "\n",
    "a = np.array([1,2,3])\n",
    "A = np.array([[1,2],[3,4]])\n",
    "B = np.array([[1,2,3],[4,5,6]])\n",
    "\n",
    "print(a)\n",
    "print()\n",
    "print(A)\n",
    "print()\n",
    "print(B)"
   ]
  },
  {
   "cell_type": "code",
   "execution_count": 4,
   "id": "d81f78a1",
   "metadata": {},
   "outputs": [
    {
     "name": "stdout",
     "output_type": "stream",
     "text": [
      "[[0. 0. 0. 0.]\n",
      " [0. 0. 0. 0.]\n",
      " [0. 0. 0. 0.]]\n",
      "\n",
      "[[1. 1. 1. 1. 1.]\n",
      " [1. 1. 1. 1. 1.]]\n",
      "\n",
      "[[100 100]\n",
      " [100 100]\n",
      " [100 100]]\n"
     ]
    }
   ],
   "source": [
    "X = np.zeros((3,4)) # 3x4의 0으로 가득찬 행렬\n",
    "Y = np.ones((2,5)) # 2x5의 1로 가득찬 행렬\n",
    "Z = np.full((3,2),100) # 첫번째 인자의 shape, 두번째 인자로 가득찬 행렬\n",
    "\n",
    "print(X)\n",
    "print()\n",
    "print(Y)\n",
    "print()\n",
    "print(Z)"
   ]
  },
  {
   "cell_type": "code",
   "execution_count": 7,
   "id": "3714b1ff",
   "metadata": {},
   "outputs": [
    {
     "name": "stdout",
     "output_type": "stream",
     "text": [
      "[0 1 2 3 4 5 6 7 8 9]\n",
      "[0 2 4 6 8]\n"
     ]
    }
   ],
   "source": [
    "# np.arange(시작하는 값,마지막 값(디폴트 = 포함x), 증가량(디폴트 =1 ))\n",
    "x = np.arange(0,10)\n",
    "print(x)\n",
    "y = np.arange(0,10,2)\n",
    "print(y)\n"
   ]
  },
  {
   "cell_type": "code",
   "execution_count": 12,
   "id": "7f3668cb",
   "metadata": {},
   "outputs": [
    {
     "name": "stdout",
     "output_type": "stream",
     "text": [
      "[ 0.  5. 10.]\n",
      "[ 0.          3.33333333  6.66666667 10.        ]\n",
      "[ 0.   2.5  5.   7.5 10. ]\n",
      "[0. 2. 4. 6. 8.]\n"
     ]
    }
   ],
   "source": [
    "#np.linspace(시작하는 값, 마지막 값(디폴트 = 포함), 전체 개수)\n",
    "x = np.linspace(0,10,3)\n",
    "print(x)\n",
    "y = np.linspace(0,10,4)\n",
    "print(y)\n",
    "\n",
    "z1 = np.linspace(0,10,5,endpoint = True)\n",
    "z2 = np.linspace(0,10,5,endpoint = False)\n",
    "\n",
    "print(z1)\n",
    "print(z2)"
   ]
  },
  {
   "cell_type": "code",
   "execution_count": 14,
   "id": "70992857",
   "metadata": {},
   "outputs": [
    {
     "name": "stdout",
     "output_type": "stream",
     "text": [
      "[[0.43413326 0.36606602 0.98530478]\n",
      " [0.19666786 0.05278329 0.46394269]]\n",
      "[[-1.70236128  1.21559913  0.67288874]\n",
      " [ 0.95148161  0.54833777 -0.7748137 ]]\n"
     ]
    }
   ],
   "source": [
    "# random으로 sample을 생성\n",
    "X = np.random.rand(2,3) # [0,1]사이의 uniform diustribution을 따르는 랜덤 샘플\n",
    "Y = np.random.randn(2,3) # Normal distribution (평균 = 0, 분산 = 1)을 따르는 랜덤 샘플\n",
    "print(X)\n",
    "print(Y)"
   ]
  },
  {
   "cell_type": "code",
   "execution_count": 17,
   "id": "e89fe4b7",
   "metadata": {},
   "outputs": [
    {
     "name": "stdout",
     "output_type": "stream",
     "text": [
      "1 (3,) 3\n",
      "2 (2, 3) 6\n",
      "[1. 1. 1.]\n",
      "[[1. 1. 1.]\n",
      " [1. 1. 1.]]\n"
     ]
    }
   ],
   "source": [
    "#np.ndarray에 있는 속성들\n",
    "z = np.ones(3) # 1차원 arr = 벡터\n",
    "Z = np.ones((2,3)) # 2차원 arr = 행렬\n",
    "\n",
    "print(z.ndim,z.shape,z.size)\n",
    "print(Z.ndim,Z.shape,Z.size) # 차원, (행,열), 크기\n",
    "#ndim = 1 벡터, = 2 행렬\n",
    "\n",
    "print(z)\n",
    "print(Z)"
   ]
  },
  {
   "cell_type": "code",
   "execution_count": 20,
   "id": "dd73c4ce",
   "metadata": {},
   "outputs": [
    {
     "name": "stdout",
     "output_type": "stream",
     "text": [
      "[ 0  1  2  3  4  5  6  7  8  9 10 11] (12,)\n",
      "[[ 0  1  2]\n",
      " [ 3  4  5]\n",
      " [ 6  7  8]\n",
      " [ 9 10 11]] (4, 3)\n"
     ]
    }
   ],
   "source": [
    "#reshape\n",
    "a = np.arange(0,12) # \n",
    "b = a.reshape(4,3)\n",
    "\n",
    "print(a,a.shape)\n",
    "print(b,b.shape)"
   ]
  },
  {
   "cell_type": "code",
   "execution_count": 30,
   "id": "b66fda73",
   "metadata": {},
   "outputs": [
    {
     "name": "stdout",
     "output_type": "stream",
     "text": [
      "[[ 0  1  2  3]\n",
      " [ 4  5  6  7]\n",
      " [ 8  9 10 11]]\n",
      "1\n",
      "7\n",
      "[0 4 8]\n",
      "[0 1]\n",
      "11\n",
      "[6]\n"
     ]
    }
   ],
   "source": [
    "# array의 값에 접근하는 방법\n",
    "a = np.arange(0,12)\n",
    "a = a.reshape(3,4)\n",
    "\n",
    "print(a)\n",
    "print(a[0,1])\n",
    "print(a[1,3])\n",
    "\n",
    "print(a[0:3,0])\n",
    "print(a[0,0:2])\n",
    "\n",
    "print(a[-1,-1])\n",
    "print(a[1:-1,-2])"
   ]
  },
  {
   "cell_type": "code",
   "execution_count": 40,
   "id": "7befae90",
   "metadata": {},
   "outputs": [
    {
     "data": {
      "text/plain": [
       "<matplotlib.collections.PathCollection at 0x1118c67f0>"
      ]
     },
     "execution_count": 40,
     "metadata": {},
     "output_type": "execute_result"
    },
    {
     "data": {
      "image/png": "[encoded data removed]",
      "text/plain": [
       "<Figure size 432x288 with 1 Axes>"
      ]
     },
     "metadata": {
      "needs_background": "light"
     },
     "output_type": "display_data"
    }
   ],
   "source": [
    "import matplotlib.pyplot as plt\n",
    "\n",
    "x = np.linspace(0,10,100)\n",
    "y = 2*x+np.random.randn(100)\n",
    "\n",
    "plt.plot(x,y)\n",
    "\n",
    "plt.scatter(x,y)"
   ]
  },
  {
   "cell_type": "code",
   "execution_count": 36,
   "id": "b2b463aa",
   "metadata": {},
   "outputs": [
    {
     "data": {
      "text/plain": [
       "array([0])"
      ]
     },
     "execution_count": 36,
     "metadata": {},
     "output_type": "execute_result"
    }
   ],
   "source": []
  },
  {
   "cell_type": "code",
   "execution_count": null,
   "id": "a06b24ca",
   "metadata": {},
   "outputs": [],
   "source": []
  }
 ],
 "metadata": {
  "kernelspec": {
   "display_name": "jiseopy",
   "language": "python",
   "name": "jiseopy"
  },
  "language_info": {
   "codemirror_mode": {
    "name": "ipython",
    "version": 3
   },
   "file_extension": ".py",
   "mimetype": "text/x-python",
   "name": "python",
   "nbconvert_exporter": "python",
   "pygments_lexer": "ipython3",
   "version": "3.8.12"
  }
 },
 "nbformat": 4,
 "nbformat_minor": 5
}
